{
 "cells": [
  {
   "cell_type": "markdown",
   "metadata": {},
   "source": [
    "Original implementation by Utku Ozbulak attacking AlexNet trained on ImageNet\n",
    "https://github.com/utkuozbulak/pytorch-cnn-adversarial-attacks\n",
    "\n",
    "CIFAR10 EfficientNet adaptation by Sean Johnson"
   ]
  },
  {
   "cell_type": "code",
   "execution_count": 11,
   "metadata": {},
   "outputs": [],
   "source": [
    "import os\n",
    "import numpy as np\n",
    "import time\n",
    "\n",
    "import torch\n",
    "from torch import nn\n",
    "from torch.autograd import Variable\n",
    "\n",
    "import pbd\n",
    "import torchvision\n",
    "import torchvision.transforms as transforms\n",
    "from models import *\n",
    "\n",
    "from matplotlib import pyplot as plt"
   ]
  },
  {
   "cell_type": "code",
   "execution_count": 12,
   "metadata": {},
   "outputs": [
    {
     "name": "stdout",
     "output_type": "stream",
     "text": [
      "Files already downloaded and verified\n",
      "Files already downloaded and verified\n"
     ]
    }
   ],
   "source": [
    "transform = transforms.Compose([transforms.ToTensor()])\n",
    "\n",
    "trainset = torchvision.datasets.CIFAR10(root='./data', train=True,\n",
    "                                        download=True, transform=transform)\n",
    "trainloader = torch.utils.data.DataLoader(trainset, batch_size=1,\n",
    "                                          shuffle=False, num_workers=1)\n",
    "\n",
    "testset = torchvision.datasets.CIFAR10(root='./data', train=False,\n",
    "                                       download=True, transform=transform)\n",
    "testloader = torch.utils.data.DataLoader(testset, batch_size=1,\n",
    "                                         shuffle=False, num_workers=1)\n",
    "\n",
    "classes = ('plane', 'car', 'bird', 'cat', 'deer', 'dog', 'frog', 'horse', 'ship', 'truck')"
   ]
  },
  {
   "cell_type": "code",
   "execution_count": 13,
   "metadata": {},
   "outputs": [],
   "source": [
    "device = 'cuda' if torch.cuda.is_available() else 'cpu'\n",
    "net = EfficientNetB0()\n",
    "net = net.to(device)\n",
    "if device == 'cuda':\n",
    "    net = torch.nn.DataParallel(net)\n",
    "\n",
    "PATH = './data/ckpt.pth'\n",
    "\n",
    "checkpoint = torch.load(PATH)\n",
    "_ = net.load_state_dict(checkpoint['net'])"
   ]
  },
  {
   "cell_type": "code",
   "execution_count": 14,
   "metadata": {},
   "outputs": [],
   "source": [
    "def preprocess(image):\n",
    "    mean = [0.4914, 0.48216, 0.44653]\n",
    "    std = [0.24703, 0.24349, 0.26159]\n",
    "    npimg = image.cpu().detach().numpy()\n",
    "    npimg = npimg[0]\n",
    "    for channel in range(3):\n",
    "        npimg[channel] -= mean[channel]\n",
    "        npimg[channel] /= std[channel]\n",
    "    npimg = np.tile(npimg, [1,1,1,1])\n",
    "    ptimg = torch.from_numpy(npimg)\n",
    "    processed_image = Variable(ptimg.cuda(), requires_grad=True)\n",
    "    return processed_image\n",
    "\n",
    "def unprocess(image):\n",
    "    mean = [0.4914, 0.48216, 0.44653]\n",
    "    std = [0.24703, 0.24349, 0.26159]\n",
    "    npimg = image.cpu().detach().numpy()\n",
    "    npimg = npimg[0]\n",
    "    transposed = np.transpose(npimg,(1,2,0))\n",
    "    \n",
    "    for channel in range(3):\n",
    "        npimg[channel] *= std[channel]\n",
    "        npimg[channel] += mean[channel]\n",
    "    npimg[npimg > 1] = 1\n",
    "    npimg[npimg < 0] = 0\n",
    "    npimg = np.tile(npimg, [1,1,1,1])\n",
    "    ptimg = torch.from_numpy(npimg)\n",
    "    unprocessed_image = Variable(ptimg.cuda(), requires_grad=True)\n",
    "    return unprocessed_image\n",
    "              \n",
    "def viewable(pyten):\n",
    "    npimg = pyten.cpu().detach().numpy()\n",
    "    npimg = npimg[0]\n",
    "    npimg = np.transpose(npimg, (1,2,0))\n",
    "    return npimg\n",
    "\n",
    "def show(image):\n",
    "    plt.imshow(image)\n",
    "    plt.show()\n",
    "    \n",
    "def scale(X, x_min, x_max):\n",
    "    nom = (X-X.min(axis=0))*(x_max-x_min)\n",
    "    denom = X.max(axis=0) - X.min(axis=0)\n",
    "    denom[denom==0] = 1\n",
    "    return x_min + nom/denom\n",
    "\n",
    "def classify(image, verbose = False):\n",
    "    net.eval()\n",
    "    predictions = net(preprocess(image))\n",
    "    _, predicted = predictions.data.max(1)\n",
    "    confidence = nn.functional.softmax(predictions, dim=1)[0][predicted].data.cpu().numpy()[0]\n",
    "    predicted = predicted.cpu().numpy()[0]\n",
    "    if verbose: print(\"Predicted %s with confidence %f\" % (classes[predicted], confidence))\n",
    "    unprocess(image)\n",
    "    return predicted, confidence"
   ]
  },
  {
   "cell_type": "code",
   "execution_count": 15,
   "metadata": {},
   "outputs": [],
   "source": [
    "class FastGradientSignUntargeted():\n",
    "    \"\"\"\n",
    "        Fast gradient sign untargeted adversarial attack, minimizes the initial class activation\n",
    "        with iterative grad sign updates\n",
    "    \"\"\"\n",
    "    def __init__(self, model, device, alpha):\n",
    "        self.model = model\n",
    "        self.model.eval()\n",
    "        self.device = device\n",
    "        # Movement multiplier per iteration\n",
    "        self.alpha = alpha\n",
    "\n",
    "    def generate(self, original_image, im_label, verbose = False, visualization = False):\n",
    "        t0 = time.time()\n",
    "        # Define loss functions\n",
    "        ce_loss = nn.CrossEntropyLoss()\n",
    "        \n",
    "        # Image Preprocessing:\n",
    "        processed_image = preprocess(original_image)\n",
    "        \n",
    "        \n",
    "        # Start iteration\n",
    "        for i in range(15):\n",
    "            #print('Iteration:', str(i))\n",
    "            # zero_gradients(x)\n",
    "            # Zero out previous gradients\n",
    "            # Can also use zero_gradients(x)\n",
    "            #processed_image.grad = None\n",
    "            processed_image.grad = None\n",
    "            im_label = im_label.cuda()\n",
    "            # Forward pass\n",
    "            out = self.model(processed_image)\n",
    "            # Calculate CE loss\n",
    "            pred_loss = ce_loss(out, im_label)\n",
    "            # Do backward pass\n",
    "            pred_loss.backward()\n",
    "            # Create Noise\n",
    "            # Here, processed_image.grad.data is also the same thing is the backward gradient from\n",
    "            # the first layer, can use that with hooks as well\n",
    "            adv_noise = self.alpha * torch.sign(processed_image.grad.data)\n",
    "            # Add Noise to processed image\n",
    "            processed_image.data = processed_image.data + adv_noise\n",
    "            \n",
    "            # Confirming if the image is indeed adversarial with added noise\n",
    "            predicted, confidence = classify(unprocess(processed_image), verbose = False)\n",
    "            if predicted != im_label.cpu().numpy()[0]: break\n",
    "        \n",
    "        return_image = unprocess(processed_image)\n",
    "        return_image = return_image.cpu().detach()\n",
    "        if verbose: \n",
    "            t1 = time.time()\n",
    "            unprocess(original_image)\n",
    "            original_class, _ = classify(original_image)\n",
    "            print(\"Iterations: %d\\nElapsed time: %f seconds\" % (i+1, t1-t0))\n",
    "            print(\"Original image classified as %s; with adversarial noise classified as %s, confidence=%f\\n\" \\\n",
    "                  % (classes[original_class], classes[predicted], confidence))\n",
    "        if visualization: \n",
    "            print(\"Original Image\")\n",
    "            show(viewable(original_image))\n",
    "            print(\"Adversarial Image\")\n",
    "            show(viewable(return_image))\n",
    "            print(\"Adversarial Noise\")\n",
    "            noise_image = original_image - return_image\n",
    "            npimg = noise_image.cpu().detach().numpy()\n",
    "            npimg = npimg[0]\n",
    "            npimg = scale(npimg, 0, 1)\n",
    "            npimg = np.transpose(npimg, (1,2,0))\n",
    "            plt.imshow(npimg)\n",
    "            plt.show()\n",
    "        \n",
    "        return return_image"
   ]
  },
  {
   "cell_type": "markdown",
   "metadata": {},
   "source": [
    "Attack demonstration:"
   ]
  },
  {
   "cell_type": "code",
   "execution_count": 16,
   "metadata": {},
   "outputs": [
    {
     "name": "stdout",
     "output_type": "stream",
     "text": [
      "Iterations: 1\n",
      "Elapsed time: 0.057313 seconds\n",
      "Original image classified as frog; with adversarial noise classified as deer, confidence=0.777271\n",
      "\n",
      "Original Image\n"
     ]
    },
    {
     "data": {
      "image/png": "[encoded data removed]",
      "text/plain": [
       "<Figure size 432x288 with 1 Axes>"
      ]
     },
     "metadata": {},
     "output_type": "display_data"
    },
    {
     "name": "stdout",
     "output_type": "stream",
     "text": [
      "Adversarial Image\n"
     ]
    },
    {
     "data": {
      "image/png": "[encoded data removed]",
      "text/plain": [
       "<Figure size 432x288 with 1 Axes>"
      ]
     },
     "metadata": {},
     "output_type": "display_data"
    },
    {
     "name": "stdout",
     "output_type": "stream",
     "text": [
      "Adversarial Noise\n"
     ]
    },
    {
     "data": {
      "image/png": "[encoded data removed]",
      "text/plain": [
       "<Figure size 432x288 with 1 Axes>"
      ]
     },
     "metadata": {},
     "output_type": "display_data"
    }
   ],
   "source": [
    "FGS_untargeted = FastGradientSignUntargeted(net, device, 0.3)\n",
    "dataiter = iter(trainloader)\n",
    "for _ in range(23):\n",
    "    dataiter.next()\n",
    "image, label = dataiter.next()\n",
    "\n",
    "adversarial_image = FGS_untargeted.generate(image, label, verbose=True, visualization = True)\n",
    "#_ = classify(adversarial_image, verbose = True)"
   ]
  },
  {
   "cell_type": "markdown",
   "metadata": {
    "collapsed": true
   },
   "source": [
    "Attacking CIFAR10 training set:"
   ]
  },
  {
   "cell_type": "code",
   "execution_count": 19,
   "metadata": {},
   "outputs": [],
   "source": [
    "# generate adversarial equivalent of CIFAR10 training set\n",
    "# elapsed time = 4476.704 on AWS EC2 p2.xlarge instance\n",
    "if False:\n",
    "    x_train = np.array([0.0])\n",
    "    x_train = np.tile(x_train, [50000, 32, 32, 3])\n",
    "    y_train = np.array([0.])\n",
    "    y_train = np.tile(y_train, [50000, 10])\n",
    "\n",
    "    t0 = time.time()\n",
    "    dataiter = iter(trainloader)\n",
    "    for i in range(50000):\n",
    "        image, label = dataiter.next()\n",
    "        adversarial_image = FGS_untargeted.generate(image, label)\n",
    "        x_train[i] = viewable(adversarial_image)\n",
    "        y_train[i][label[0]] = 1\n",
    "        if i % 1000 == 0:\n",
    "            print(\"%f done\" % (i/50000.0))\n",
    "    t1 = time.time()\n",
    "    print(\"Elapsed time: %f\" % (t1-t0))\n",
    "    \n",
    "    np.save(\"./data/x_train_adversarial\", x_train)\n",
    "    np.save(\"./data/y_train_adversarial\", y_train)"
   ]
  },
  {
   "cell_type": "code",
   "execution_count": 23,
   "metadata": {},
   "outputs": [],
   "source": [
    "# load adversarial training set\n",
    "if True:\n",
    "    x_train = np.load(\"./data/x_train_adversarial.npy\")\n",
    "    y_train = np.load(\"./data/y_train_adversarial.npy\")"
   ]
  },
  {
   "cell_type": "code",
   "execution_count": 24,
   "metadata": {},
   "outputs": [
    {
     "data": {
      "image/png": "[encoded data removed]",
      "text/plain": [
       "<Figure size 432x288 with 1 Axes>"
      ]
     },
     "metadata": {},
     "output_type": "display_data"
    },
    {
     "name": "stdout",
     "output_type": "stream",
     "text": [
      "ship\n",
      "Predicted frog with confidence 0.326112\n"
     ]
    }
   ],
   "source": [
    "# test adversarial images\n",
    "idx = 20000\n",
    "show(x_train[idx])\n",
    "print(classes[y_train[idx].argmax()])\n",
    "npimg = np.transpose(x_train[idx],(2,0,1))\n",
    "npimg = np.tile(npimg, [1,1,1,1])\n",
    "ptimg = torch.from_numpy(npimg)\n",
    "ptimg = Variable(ptimg.cuda(), requires_grad=True)\n",
    "ptimg = ptimg.float()\n",
    "_ = classify(ptimg, verbose = True)"
   ]
  },
  {
   "cell_type": "code",
   "execution_count": 25,
   "metadata": {},
   "outputs": [],
   "source": [
    "#Elapsed time: 871.355 on AWS EC2 p2.xlarge instance\n",
    "if False:\n",
    "    x_test = np.array([0.0])\n",
    "    x_test = np.tile(x_test, [10000, 32, 32, 3])\n",
    "    y_test = np.array([0.])\n",
    "    y_test = np.tile(y_test, [10000, 10])\n",
    "    \n",
    "    t0 = time.time()\n",
    "    dataiter = iter(testloader)\n",
    "    for i in range(10000):\n",
    "        image, label = dataiter.next()\n",
    "        adversarial_image = FGS_untargeted.generate(image, label)\n",
    "        x_test[i] = viewable(adversarial_image)\n",
    "        y_test[i][label[0]] = 1\n",
    "        if i % 1000 == 0:\n",
    "            print(\"%f done\" % (i/10000.0))\n",
    "    t1 = time.time()\n",
    "    print(\"Elapsed time: %f\" % (t1-t0))\n",
    "    \n",
    "    np.save(\"./data/x_test_adversarial\", x_test)\n",
    "    np.save(\"./data/y_test_adversarial\", y_test)"
   ]
  },
  {
   "cell_type": "code",
   "execution_count": 26,
   "metadata": {},
   "outputs": [],
   "source": [
    "# load adversarial training set\n",
    "if True:\n",
    "    x_test = np.load(\"./data/x_test_adversarial.npy\")\n",
    "    y_test = np.load(\"./data/y_test_adversarial.npy\")"
   ]
  },
  {
   "cell_type": "code",
   "execution_count": 27,
   "metadata": {},
   "outputs": [
    {
     "data": {
      "image/png": "[encoded data removed]",
      "text/plain": [
       "<Figure size 432x288 with 1 Axes>"
      ]
     },
     "metadata": {},
     "output_type": "display_data"
    },
    {
     "name": "stdout",
     "output_type": "stream",
     "text": [
      "horse\n",
      "Predicted deer with confidence 0.663213\n"
     ]
    }
   ],
   "source": [
    "# test adversarial images\n",
    "idx = 9999\n",
    "show(x_test[idx])\n",
    "print(classes[y_test[idx].argmax()])\n",
    "npimg = np.transpose(x_test[idx],(2,0,1))\n",
    "npimg = np.tile(npimg, [1,1,1,1])\n",
    "ptimg = torch.from_numpy(npimg)\n",
    "ptimg = Variable(ptimg.cuda(), requires_grad=True)\n",
    "ptimg = ptimg.float()\n",
    "_ = classify(ptimg, verbose = True)"
   ]
  },
  {
   "cell_type": "code",
   "execution_count": null,
   "metadata": {},
   "outputs": [],
   "source": []
  }
 ],
 "metadata": {
  "kernelspec": {
   "display_name": "Python 3",
   "language": "python",
   "name": "python3"
  },
  "language_info": {
   "codemirror_mode": {
    "name": "ipython",
    "version": 3
   },
   "file_extension": ".py",
   "mimetype": "text/x-python",
   "name": "python",
   "nbconvert_exporter": "python",
   "pygments_lexer": "ipython3",
   "version": "3.6.5"
  }
 },
 "nbformat": 4,
 "nbformat_minor": 2
}
