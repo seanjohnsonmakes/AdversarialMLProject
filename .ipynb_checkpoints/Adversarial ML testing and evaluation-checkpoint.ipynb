{
 "cells": [
  {
   "cell_type": "markdown",
   "metadata": {},
   "source": [
    "In this notebook we compare two CIFAR10 \"simple deep\" CNNs, one which was trained to 75% accuracy, and one which was adversarially trained with the same number of epochs on a version of CIFAR10 that was attacked with FGSM. The FGSM attack was done with an EfficientNet model and successfully misclassified all images. This notebook tests the viability of using an FGSM attack on a different network than the one it was developed with, and tests the defensive capability of adversarial training. Gaussian filtering is also tested as a defense against the attack.\n",
    "\n",
    "CIFAR10 CNN by the keras developers https://keras.io/examples/cifar10_cnn/"
   ]
  },
  {
   "cell_type": "code",
   "execution_count": 1,
   "metadata": {},
   "outputs": [
    {
     "name": "stderr",
     "output_type": "stream",
     "text": [
      "Using TensorFlow backend.\n"
     ]
    }
   ],
   "source": [
    "from __future__ import print_function\n",
    "import keras\n",
    "from keras.datasets import cifar10\n",
    "from keras.preprocessing.image import ImageDataGenerator\n",
    "from keras.models import Sequential, model_from_json, load_model\n",
    "from keras.layers import Dense, Dropout, Activation, Flatten\n",
    "from keras.layers import Conv2D, MaxPooling2D\n",
    "from scipy import ndimage\n",
    "import random\n",
    "import helper\n",
    "import numpy as np\n",
    "from matplotlib import pyplot as plt\n",
    "import os\n",
    "import time\n",
    "\n",
    "batch_size = 32\n",
    "num_classes = 10\n",
    "epochs = 120\n",
    "data_augmentation = False\n",
    "num_predictions = 20\n",
    "save_dir = os.path.join(os.getcwd(), 'data')\n",
    "\n",
    "classes = ('plane', 'car', 'bird', 'cat', 'deer', 'dog', 'frog', 'horse', 'ship', 'truck')"
   ]
  },
  {
   "cell_type": "code",
   "execution_count": null,
   "metadata": {},
   "outputs": [],
   "source": [
    "# loading the regular CIFAR10 CNN\n",
    "\n",
    "model_name = 'keras_cifar10_trained_model_1.h5'\n",
    "\n",
    "# The data, split between train and test sets:\n",
    "(x_train, y_train), (x_test, y_test) = cifar10.load_data()\n",
    "\n",
    "# Convert class vectors to binary class matrices.\n",
    "y_train = keras.utils.to_categorical(y_train, num_classes)\n",
    "y_test = keras.utils.to_categorical(y_test, num_classes)\n",
    "\n",
    "x_train = x_train.astype('float32')\n",
    "x_test = x_test.astype('float32')\n",
    "x_train /= 255\n",
    "x_test /= 255\n",
    "\n",
    "model = load_model(os.path.join(save_dir, model_name))"
   ]
  },
  {
   "cell_type": "code",
   "execution_count": 3,
   "metadata": {},
   "outputs": [],
   "source": [
    "# loading the adversarially trained CIFAR10 CNN\n",
    "\n",
    "model_adv_name = 'keras_cifar10_adversarial_trained_model.h5'\n",
    "\n",
    "x_train_adv = np.load('./data/x_train_adversarial.npy')\n",
    "y_train_adv = np.load('./data/y_train_adversarial.npy')\n",
    "x_test_adv = np.load('./data/x_test_adversarial.npy')\n",
    "y_test_adv = np.load('./data/y_test_adversarial.npy')\n",
    "\n",
    "model_adv = load_model(os.path.join(save_dir, model_adv_name))"
   ]
  },
  {
   "cell_type": "code",
   "execution_count": 31,
   "metadata": {},
   "outputs": [
    {
     "data": {
      "image/png": "[encoded data removed]",
      "text/plain": [
       "<Figure size 432x288 with 1 Axes>"
      ]
     },
     "metadata": {},
     "output_type": "display_data"
    },
    {
     "name": "stdout",
     "output_type": "stream",
     "text": [
      "prediction (original): cat\n",
      "confidence: 0.251126\n",
      "prediction (adversarial): bird\n",
      "confidence: 0.267100\n"
     ]
    }
   ],
   "source": [
    "# showing some examples of original vs adversarial images classified by the regular CIFAR10 CNN\n",
    "\n",
    "for i in range(10):\n",
    "    idx = random.randint(0,50000)\n",
    "    \n",
    "    orig_predictions = model.predict(np.tile(x_train[idx],[1,1,1,1]))\n",
    "    adv_predictions = model.predict(np.tile(x_train_adv[idx],[1,1,1,1]))\n",
    "    \n",
    "    if orig_predictions.argmax() != adv_predictions.argmax():\n",
    "        helper.plot_image((x_train[idx] * 255).astype('int'))\n",
    "        #helper.plot_image((x_train_adv[idx]*255).astype('int'))\n",
    "\n",
    "        print(\"prediction (original): %s\" % (classes[orig_predictions.argmax()]))\n",
    "        print(\"confidence: %f\" % (orig_predictions.max()))\n",
    "        print(\"prediction (adversarial): %s\" % (classes[adv_predictions.argmax()]))\n",
    "        print(\"confidence: %f\" % (adv_predictions.max()))"
   ]
  },
  {
   "cell_type": "code",
   "execution_count": 32,
   "metadata": {},
   "outputs": [
    {
     "data": {
      "image/png": "[encoded data removed]",
      "text/plain": [
       "<Figure size 432x288 with 1 Axes>"
      ]
     },
     "metadata": {},
     "output_type": "display_data"
    },
    {
     "name": "stdout",
     "output_type": "stream",
     "text": [
      "prediction (original): plane\n",
      "confidence: 0.996766\n",
      "prediction (adversarial): plane\n",
      "confidence: 0.989403\n"
     ]
    },
    {
     "data": {
      "image/png": "[encoded data removed]",
      "text/plain": [
       "<Figure size 432x288 with 1 Axes>"
      ]
     },
     "metadata": {},
     "output_type": "display_data"
    },
    {
     "name": "stdout",
     "output_type": "stream",
     "text": [
      "prediction (original): deer\n",
      "confidence: 0.206702\n",
      "prediction (adversarial): deer\n",
      "confidence: 0.190305\n"
     ]
    },
    {
     "data": {
      "image/png": "[encoded data removed]",
      "text/plain": [
       "<Figure size 432x288 with 1 Axes>"
      ]
     },
     "metadata": {},
     "output_type": "display_data"
    },
    {
     "name": "stdout",
     "output_type": "stream",
     "text": [
      "prediction (original): plane\n",
      "confidence: 0.997394\n",
      "prediction (adversarial): plane\n",
      "confidence: 0.988851\n"
     ]
    }
   ],
   "source": [
    "for i in range(3):\n",
    "    idx = random.randint(0,50000)\n",
    "    \n",
    "    orig_predictions = model.predict(np.tile(x_train[idx],[1,1,1,1]))\n",
    "    adv_predictions = model.predict(np.tile(x_train_adv[idx],[1,1,1,1]))\n",
    "    \n",
    "    helper.plot_image((x_train[idx] * 255).astype('int'))\n",
    "    #helper.plot_image((x_train_adv[idx]*255).astype('int'))\n",
    "\n",
    "    print(\"prediction (original): %s\" % (classes[orig_predictions.argmax()]))\n",
    "    print(\"confidence: %f\" % (orig_predictions.max()))\n",
    "    print(\"prediction (adversarial): %s\" % (classes[adv_predictions.argmax()]))\n",
    "    print(\"confidence: %f\" % (adv_predictions.max()))"
   ]
  },
  {
   "cell_type": "markdown",
   "metadata": {},
   "source": [
    "Initial testing shows that the adversarial images slightly decrease the confidence of the classification. Overall, they only misclassify a few images."
   ]
  },
  {
   "cell_type": "code",
   "execution_count": 5,
   "metadata": {},
   "outputs": [
    {
     "name": "stdout",
     "output_type": "stream",
     "text": [
      "CNN score on test set:\n",
      "10000/10000 [==============================] - 1s 146us/step\n",
      "Test loss: 0.772959152507782\n",
      "Test accuracy: 0.7545\n",
      "\n",
      "CNN score on adversarial test set:\n",
      "10000/10000 [==============================] - 1s 126us/step\n",
      "Test loss: 0.8537942806243897\n",
      "Test accuracy: 0.7288\n",
      "\n",
      "Adversarially trained CNN score on test set:\n",
      "10000/10000 [==============================] - 1s 139us/step\n",
      "Test loss: 0.6886901915550232\n",
      "Test accuracy: 0.7685\n",
      "\n",
      "Adversarially trained CNN score on adversarial test set:\n",
      "10000/10000 [==============================] - 1s 124us/step\n",
      "Test loss: 0.7212253359794617\n",
      "Test accuracy: 0.7574\n"
     ]
    }
   ],
   "source": [
    "# quantifying results\n",
    "\n",
    "print(\"CNN score on test set:\")\n",
    "scores = model.evaluate(x_test, y_test, verbose=1)\n",
    "print('Test loss:', scores[0])\n",
    "print('Test accuracy:', scores[1])\n",
    "\n",
    "print(\"\\nCNN score on adversarial test set:\")\n",
    "scores = model.evaluate(x_test_adv, y_test_adv, verbose=1)\n",
    "print('Test loss:', scores[0])\n",
    "print('Test accuracy:', scores[1])\n",
    "\n",
    "print(\"\\nAdversarially trained CNN score on test set:\")\n",
    "scores = model_adv.evaluate(x_test, y_test, verbose=1)\n",
    "print('Test loss:', scores[0])\n",
    "print('Test accuracy:', scores[1])\n",
    "\n",
    "print(\"\\nAdversarially trained CNN score on adversarial test set:\")\n",
    "scores = model_adv.evaluate(x_test_adv, y_test_adv, verbose=1)\n",
    "print('Test loss:', scores[0])\n",
    "print('Test accuracy:', scores[1])"
   ]
  },
  {
   "cell_type": "markdown",
   "metadata": {},
   "source": [
    "This shows that adversarial training is somewhat successful at defending against the adversarial images. Interestingly, the adversarially trained model scored better than the original on the unaltered test set."
   ]
  },
  {
   "cell_type": "code",
   "execution_count": 6,
   "metadata": {},
   "outputs": [
    {
     "name": "stdout",
     "output_type": "stream",
     "text": [
      "Average confidence of original classification where adversarial image failed: 0.760973\n",
      "Average confidence of original classification where adversarial image succeeded: 0.397613\n"
     ]
    }
   ],
   "source": [
    "# comparing cases where the adversarial image failed to missclassify vs cases where it succeded\n",
    "\n",
    "adv_succ_conf = list()\n",
    "adv_fail_conf = list()\n",
    "for i in range(10000):\n",
    "    predictions = model.predict(np.tile(x_test[i],[1,1,1,1]))\n",
    "    chosen = predictions.argmax()\n",
    "    adv_predictions = model.predict(np.tile(x_test_adv[i],[1,1,1,1]))\n",
    "    chosen_adv = adv_predictions.argmax()\n",
    "    if chosen == chosen_adv: adv_fail_conf.append(predictions.max())\n",
    "    else: adv_succ_conf.append(adv_predictions.max())\n",
    "        \n",
    "adv_succ_conf = np.asarray(adv_succ_conf, dtype=np.float32)\n",
    "adv_fail_conf = np.asarray(adv_fail_conf, dtype=np.float32)\n",
    "\n",
    "print(\"Average confidence of original classification where adversarial image failed: %f\" % adv_fail_conf.mean())\n",
    "print(\"Average confidence of original classification where adversarial image succeeded: %f\" % adv_succ_conf.mean())"
   ]
  },
  {
   "cell_type": "markdown",
   "metadata": {},
   "source": [
    "This shows that the adversarial image is more likely to miscalssify if the original confidence was low."
   ]
  },
  {
   "cell_type": "code",
   "execution_count": 7,
   "metadata": {},
   "outputs": [
    {
     "data": {
      "image/png": "[encoded data removed]",
      "text/plain": [
       "<Figure size 432x288 with 1 Axes>"
      ]
     },
     "metadata": {},
     "output_type": "display_data"
    },
    {
     "name": "stdout",
     "output_type": "stream",
     "text": [
      "Predicted class truck with confidence 0.916817\n",
      "delta t: 0.000682\n"
     ]
    },
    {
     "data": {
      "image/png": "[encoded data removed]",
      "text/plain": [
       "<Figure size 432x288 with 1 Axes>"
      ]
     },
     "metadata": {},
     "output_type": "display_data"
    },
    {
     "name": "stdout",
     "output_type": "stream",
     "text": [
      "Predicted class truck with confidence 0.686655\n"
     ]
    },
    {
     "data": {
      "image/png": "[encoded data removed]",
      "text/plain": [
       "<Figure size 432x288 with 1 Axes>"
      ]
     },
     "metadata": {},
     "output_type": "display_data"
    },
    {
     "name": "stdout",
     "output_type": "stream",
     "text": [
      "Predicted class deer with confidence 0.910602\n"
     ]
    }
   ],
   "source": [
    "# showing the effect of gaussian filtering at different std values on an example image\n",
    "\n",
    "idx = 335\n",
    "plt.imshow(x_test[idx])\n",
    "plt.show()\n",
    "predictions = model.predict(np.tile(x_test[idx],[1,1,1,1]))\n",
    "print(\"Predicted class %s with confidence %f\" % (classes[predictions.argmax()], predictions.max()))\n",
    "\n",
    "t0 = time.time()\n",
    "sig6 = ndimage.gaussian_filter(x_test[idx], sigma=.6)\n",
    "t1 = time.time()\n",
    "print(\"delta t: %f\" % (t1-t0))\n",
    "plt.imshow(sig6)\n",
    "plt.show()\n",
    "predictions = model.predict(np.tile(sig6,[1,1,1,1]))\n",
    "print(\"Predicted class %s with confidence %f\" % (classes[predictions.argmax()], predictions.max()))\n",
    "\n",
    "sig8 = ndimage.gaussian_filter(x_test[idx], sigma=.8)\n",
    "plt.imshow(sig8)\n",
    "plt.show()\n",
    "predictions = model.predict(np.tile(sig8,[1,1,1,1]))\n",
    "print(\"Predicted class %s with confidence %f\" % (classes[predictions.argmax()], predictions.max()))\n"
   ]
  },
  {
   "cell_type": "code",
   "execution_count": 8,
   "metadata": {},
   "outputs": [],
   "source": [
    "# applying gaussian filtering at various std values to the CIFAR10 test set and the adversarial CIFAR10 test set\n",
    "\n",
    "x_test_adv_filtered = np.zeros([7, 10000, 32, 32, 3])\n",
    "x_test_filtered = np.zeros([7, 10000, 32, 32, 3])\n",
    "\n",
    "for i in range(10000):\n",
    "    x_test_adv_filtered[0][i] = ndimage.gaussian_filter(x_test_adv[i], sigma=.2)\n",
    "    x_test_filtered[0][i] = ndimage.gaussian_filter(x_test[i], sigma=.2)\n",
    "    \n",
    "    x_test_adv_filtered[1][i] = ndimage.gaussian_filter(x_test_adv[i], sigma=.3)\n",
    "    x_test_filtered[1][i] = ndimage.gaussian_filter(x_test[i], sigma=.3)\n",
    "    \n",
    "    x_test_adv_filtered[2][i] = ndimage.gaussian_filter(x_test_adv[i], sigma=.4)\n",
    "    x_test_filtered[2][i] = ndimage.gaussian_filter(x_test[i], sigma=.4)\n",
    "    \n",
    "    x_test_adv_filtered[3][i] = ndimage.gaussian_filter(x_test_adv[i], sigma=.5)\n",
    "    x_test_filtered[3][i] = ndimage.gaussian_filter(x_test[i], sigma=.5)\n",
    "    \n",
    "    x_test_adv_filtered[4][i] = ndimage.gaussian_filter(x_test_adv[i], sigma=.6)\n",
    "    x_test_filtered[4][i] = ndimage.gaussian_filter(x_test[i], sigma=.6)\n",
    "    \n",
    "    x_test_adv_filtered[5][i] = ndimage.gaussian_filter(x_test_adv[i], sigma=.7)\n",
    "    x_test_filtered[5][i] = ndimage.gaussian_filter(x_test[i], sigma=.7)\n",
    "    \n",
    "    x_test_adv_filtered[6][i] = ndimage.gaussian_filter(x_test_adv[i], sigma=.8)\n",
    "    x_test_filtered[6][i] = ndimage.gaussian_filter(x_test[i], sigma=.8)"
   ]
  },
  {
   "cell_type": "code",
   "execution_count": 9,
   "metadata": {
    "scrolled": false
   },
   "outputs": [
    {
     "name": "stdout",
     "output_type": "stream",
     "text": [
      "\n",
      "Unaltered+filtered test set evaluation\n",
      "10000/10000 [==============================] - 1s 129us/step\n",
      "10000/10000 [==============================] - 1s 127us/step\n",
      "Original model test accuracy: 0.7545\n",
      "Retrained model test accuracy: 0.7685\n",
      "Original model test loss: 0.7729540209770203\n",
      "Retrained model test loss: 0.6886908890724183\n",
      "\n",
      "Unaltered+filtered test set evaluation\n",
      "10000/10000 [==============================] - 1s 127us/step\n",
      "10000/10000 [==============================] - 1s 123us/step\n",
      "Original model test accuracy: 0.7574\n",
      "Retrained model test accuracy: 0.7672\n",
      "Original model test loss: 0.7678047375679016\n",
      "Retrained model test loss: 0.6895526030540466\n",
      "\n",
      "Unaltered+filtered test set evaluation\n",
      "10000/10000 [==============================] - 1s 125us/step\n",
      "10000/10000 [==============================] - 1s 125us/step\n",
      "Original model test accuracy: 0.768\n",
      "Retrained model test accuracy: 0.7622\n",
      "Original model test loss: 0.7292801014900208\n",
      "Retrained model test loss: 0.7111359392166138\n",
      "\n",
      "Unaltered+filtered test set evaluation\n",
      "10000/10000 [==============================] - 1s 126us/step\n",
      "10000/10000 [==============================] - 1s 121us/step\n",
      "Original model test accuracy: 0.7686\n",
      "Retrained model test accuracy: 0.719\n",
      "Original model test loss: 0.7328986143112183\n",
      "Retrained model test loss: 0.8350419637680053\n",
      "\n",
      "Unaltered+filtered test set evaluation\n",
      "10000/10000 [==============================] - 1s 123us/step\n",
      "10000/10000 [==============================] - 1s 124us/step\n",
      "Original model test accuracy: 0.7193\n",
      "Retrained model test accuracy: 0.6476\n",
      "Original model test loss: 0.8877682672500611\n",
      "Retrained model test loss: 1.1051515887260437\n",
      "\n",
      "Unaltered+filtered test set evaluation\n",
      "10000/10000 [==============================] - 1s 123us/step\n",
      "10000/10000 [==============================] - 1s 122us/step\n",
      "Original model test accuracy: 0.6289\n",
      "Retrained model test accuracy: 0.5525\n",
      "Original model test loss: 1.2016271381378174\n",
      "Retrained model test loss: 1.4721630647659303\n",
      "\n",
      "Unaltered+filtered test set evaluation\n",
      "10000/10000 [==============================] - 1s 126us/step\n",
      "10000/10000 [==============================] - 1s 125us/step\n",
      "Original model test accuracy: 0.52\n",
      "Retrained model test accuracy: 0.46\n",
      "Original model test loss: 1.6357855428695678\n",
      "Retrained model test loss: 1.8801229473114014\n",
      "\n",
      "Adversarial+filtered test set evaluation\n",
      "10000/10000 [==============================] - 1s 125us/step\n",
      "10000/10000 [==============================] - 1s 122us/step\n",
      "Original model test accuracy: 0.7288\n",
      "Retrained model test accuracy: 0.7573\n",
      "Original model test loss: 0.8537881599426269\n",
      "Retrained model test loss: 0.7212257488250733\n",
      "\n",
      "Adversarial+filtered test set evaluation\n",
      "10000/10000 [==============================] - 1s 122us/step\n",
      "10000/10000 [==============================] - 1s 122us/step\n",
      "Original model test accuracy: 0.7315\n",
      "Retrained model test accuracy: 0.7572\n",
      "Original model test loss: 0.8475847679138183\n",
      "Retrained model test loss: 0.7218170744895935\n",
      "\n",
      "Adversarial+filtered test set evaluation\n",
      "10000/10000 [==============================] - 1s 122us/step\n",
      "10000/10000 [==============================] - 1s 124us/step\n",
      "Original model test accuracy: 0.7448\n",
      "Retrained model test accuracy: 0.7516\n",
      "Original model test loss: 0.7994850525856018\n",
      "Retrained model test loss: 0.741163501739502\n",
      "\n",
      "Adversarial+filtered test set evaluation\n",
      "10000/10000 [==============================] - 1s 125us/step\n",
      "10000/10000 [==============================] - 1s 126us/step\n",
      "Original model test accuracy: 0.7492\n",
      "Retrained model test accuracy: 0.7109\n",
      "Original model test loss: 0.7884598239898681\n",
      "Retrained model test loss: 0.8627065101623536\n",
      "\n",
      "Adversarial+filtered test set evaluation\n",
      "10000/10000 [==============================] - 1s 123us/step\n",
      "10000/10000 [==============================] - 1s 121us/step\n",
      "Original model test accuracy: 0.701\n",
      "Retrained model test accuracy: 0.6384\n",
      "Original model test loss: 0.9333049861907959\n",
      "Retrained model test loss: 1.1317809672355652\n",
      "\n",
      "Adversarial+filtered test set evaluation\n",
      "10000/10000 [==============================] - 1s 122us/step\n",
      "10000/10000 [==============================] - 1s 122us/step\n",
      "Original model test accuracy: 0.6163\n",
      "Retrained model test accuracy: 0.5439\n",
      "Original model test loss: 1.2394732549667358\n",
      "Retrained model test loss: 1.497108843421936\n",
      "\n",
      "Adversarial+filtered test set evaluation\n",
      "10000/10000 [==============================] - 1s 123us/step\n",
      "10000/10000 [==============================] - 1s 126us/step\n",
      "Original model test accuracy: 0.5109\n",
      "Retrained model test accuracy: 0.4524\n",
      "Original model test loss: 1.66642460231781\n",
      "Retrained model test loss: 1.9019842128753661\n"
     ]
    }
   ],
   "source": [
    "# testing filtered test set and filtered adversarial test set on both the regular and adversarially trained CNN's\n",
    "\n",
    "for i in range(7):\n",
    "    print(\"\\nUnaltered+filtered test set evaluation\")\n",
    "    scores = model.evaluate(x_test_filtered[i], y_test, verbose=1)\n",
    "    scores_adv = model_adv.evaluate(x_test_filtered[i], y_test, verbose=1)\n",
    "    print('Original model test accuracy:', scores[1])\n",
    "    print('Retrained model test accuracy:', scores_adv[1])\n",
    "    print('Original model test loss:', scores[0])\n",
    "    print('Retrained model test loss:', scores_adv[0])\n",
    "\n",
    "for i in range(7):\n",
    "    print(\"\\nAdversarial+filtered test set evaluation\")\n",
    "    scores = model.evaluate(x_test_adv_filtered[i], y_test_adv, verbose=1)\n",
    "    scores_adv = model_adv.evaluate(x_test_adv_filtered[i], y_test_adv, verbose=1)\n",
    "    print('Original model test accuracy:', scores[1])\n",
    "    print('Retrained model test accuracy:', scores_adv[1])\n",
    "    print('Original model test loss:', scores[0])\n",
    "    print('Retrained model test loss:', scores_adv[0])"
   ]
  },
  {
   "cell_type": "code",
   "execution_count": null,
   "metadata": {},
   "outputs": [],
   "source": []
  }
 ],
 "metadata": {
  "kernelspec": {
   "display_name": "Python 3",
   "language": "python",
   "name": "python3"
  },
  "language_info": {
   "codemirror_mode": {
    "name": "ipython",
    "version": 3
   },
   "file_extension": ".py",
   "mimetype": "text/x-python",
   "name": "python",
   "nbconvert_exporter": "python",
   "pygments_lexer": "ipython3",
   "version": "3.6.5"
  }
 },
 "nbformat": 4,
 "nbformat_minor": 2
}
